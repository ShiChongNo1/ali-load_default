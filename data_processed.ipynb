{
 "cells": [
  {
   "attachments": {},
   "cell_type": "markdown",
   "metadata": {},
   "source": [
    "    数据预处理\n",
    "        缺失值的填充\n",
    "        时间格式处理\n",
    "        对象类型特征转换到数值\n",
    "    异常值处理\n",
    "        基于3segama原则\n",
    "        基于箱型图\n",
    "    数据分箱\n",
    "        固定宽度分箱\n",
    "        分位数分箱\n",
    "        离散数值型数据分箱\n",
    "        连续数值型数据分箱\n",
    "        卡方分箱（选做作业）\n",
    "    特征交互\n",
    "        特征和特征之间组合\n",
    "        特征和特征之间衍生\n",
    "        其他特征衍生的尝试（选做作业）\n",
    "    特征编码\n",
    "        one-hot编码\n",
    "        label-encode编码\n",
    "    特征选择\n",
    "        1 Filter\n",
    "        2 Wrapper （RFE）\n",
    "        3 Embedded"
   ]
  },
  {
   "cell_type": "code",
   "execution_count": 261,
   "metadata": {},
   "outputs": [],
   "source": [
    "import pandas as pd\n",
    "import numpy as np\n",
    "import matplotlib.pyplot as plt\n",
    "import seaborn as sns\n",
    "import datetime\n",
    "from tqdm import tqdm\n",
    "from sklearn.preprocessing import LabelEncoder\n",
    "from sklearn.feature_selection import SelectKBest\n",
    "from sklearn.feature_selection import chi2\n",
    "from sklearn.preprocessing import MinMaxScaler\n",
    "from sklearn.model_selection import StratifiedGroupKFold, KFold\n",
    "from sklearn.metrics import accuracy_score, f1_score, log_loss\n",
    "import xgboost as xgb\n",
    "import lightgbm as lgb\n",
    "from catboost import CatBoostRegressor\n",
    "\n",
    "import warnings\n",
    "warnings.filterwarnings('ignore')"
   ]
  },
  {
   "cell_type": "code",
   "execution_count": 262,
   "metadata": {},
   "outputs": [],
   "source": [
    "data_train = pd.read_csv('./data/train.csv')\n",
    "data_test_a = pd.read_csv('./data/testA.csv')"
   ]
  },
  {
   "cell_type": "code",
   "execution_count": 263,
   "metadata": {},
   "outputs": [
    {
     "data": {
      "text/plain": [
       "0         E2\n",
       "1         D2\n",
       "2         D3\n",
       "3         A4\n",
       "4         C2\n",
       "          ..\n",
       "799995    C4\n",
       "799996    A4\n",
       "799997    C3\n",
       "799998    A4\n",
       "799999    B3\n",
       "Name: subGrade, Length: 800000, dtype: object"
      ]
     },
     "execution_count": 263,
     "metadata": {},
     "output_type": "execute_result"
    }
   ],
   "source": [
    "data_train['subGrade']"
   ]
  },
  {
   "cell_type": "code",
   "execution_count": 264,
   "metadata": {},
   "outputs": [
    {
     "name": "stdout",
     "output_type": "stream",
     "text": [
      "<class 'pandas.core.frame.DataFrame'>\n",
      "RangeIndex: 800000 entries, 0 to 799999\n",
      "Data columns (total 47 columns):\n",
      " #   Column              Non-Null Count   Dtype  \n",
      "---  ------              --------------   -----  \n",
      " 0   id                  800000 non-null  int64  \n",
      " 1   loanAmnt            800000 non-null  float64\n",
      " 2   term                800000 non-null  int64  \n",
      " 3   interestRate        800000 non-null  float64\n",
      " 4   installment         800000 non-null  float64\n",
      " 5   grade               800000 non-null  object \n",
      " 6   subGrade            800000 non-null  object \n",
      " 7   employmentTitle     799999 non-null  float64\n",
      " 8   employmentLength    753201 non-null  object \n",
      " 9   homeOwnership       800000 non-null  int64  \n",
      " 10  annualIncome        800000 non-null  float64\n",
      " 11  verificationStatus  800000 non-null  int64  \n",
      " 12  issueDate           800000 non-null  object \n",
      " 13  isDefault           800000 non-null  int64  \n",
      " 14  purpose             800000 non-null  int64  \n",
      " 15  postCode            799999 non-null  float64\n",
      " 16  regionCode          800000 non-null  int64  \n",
      " 17  dti                 799761 non-null  float64\n",
      " 18  delinquency_2years  800000 non-null  float64\n",
      " 19  ficoRangeLow        800000 non-null  float64\n",
      " 20  ficoRangeHigh       800000 non-null  float64\n",
      " 21  openAcc             800000 non-null  float64\n",
      " 22  pubRec              800000 non-null  float64\n",
      " 23  pubRecBankruptcies  799595 non-null  float64\n",
      " 24  revolBal            800000 non-null  float64\n",
      " 25  revolUtil           799469 non-null  float64\n",
      " 26  totalAcc            800000 non-null  float64\n",
      " 27  initialListStatus   800000 non-null  int64  \n",
      " 28  applicationType     800000 non-null  int64  \n",
      " 29  earliesCreditLine   800000 non-null  object \n",
      " 30  title               799999 non-null  float64\n",
      " 31  policyCode          800000 non-null  float64\n",
      " 32  n0                  759730 non-null  float64\n",
      " 33  n1                  759730 non-null  float64\n",
      " 34  n2                  759730 non-null  float64\n",
      " 35  n3                  759730 non-null  float64\n",
      " 36  n4                  766761 non-null  float64\n",
      " 37  n5                  759730 non-null  float64\n",
      " 38  n6                  759730 non-null  float64\n",
      " 39  n7                  759730 non-null  float64\n",
      " 40  n8                  759729 non-null  float64\n",
      " 41  n9                  759730 non-null  float64\n",
      " 42  n10                 766761 non-null  float64\n",
      " 43  n11                 730248 non-null  float64\n",
      " 44  n12                 759730 non-null  float64\n",
      " 45  n13                 759730 non-null  float64\n",
      " 46  n14                 759730 non-null  float64\n",
      "dtypes: float64(33), int64(9), object(5)\n",
      "memory usage: 286.9+ MB\n"
     ]
    }
   ],
   "source": [
    "data_train.info()"
   ]
  },
  {
   "attachments": {},
   "cell_type": "markdown",
   "metadata": {},
   "source": [
    "### 特征预处理"
   ]
  },
  {
   "attachments": {},
   "cell_type": "markdown",
   "metadata": {},
   "source": [
    "1. 查找对象特征和数值特征"
   ]
  },
  {
   "cell_type": "code",
   "execution_count": 265,
   "metadata": {},
   "outputs": [
    {
     "data": {
      "text/plain": [
       "['id',\n",
       " 'loanAmnt',\n",
       " 'term',\n",
       " 'interestRate',\n",
       " 'installment',\n",
       " 'employmentTitle',\n",
       " 'homeOwnership',\n",
       " 'annualIncome',\n",
       " 'verificationStatus',\n",
       " 'purpose',\n",
       " 'postCode',\n",
       " 'regionCode',\n",
       " 'dti',\n",
       " 'delinquency_2years',\n",
       " 'ficoRangeLow',\n",
       " 'ficoRangeHigh',\n",
       " 'openAcc',\n",
       " 'pubRec',\n",
       " 'pubRecBankruptcies',\n",
       " 'revolBal',\n",
       " 'revolUtil',\n",
       " 'totalAcc',\n",
       " 'initialListStatus',\n",
       " 'applicationType',\n",
       " 'title',\n",
       " 'policyCode',\n",
       " 'n0',\n",
       " 'n1',\n",
       " 'n2',\n",
       " 'n3',\n",
       " 'n4',\n",
       " 'n5',\n",
       " 'n6',\n",
       " 'n7',\n",
       " 'n8',\n",
       " 'n9',\n",
       " 'n10',\n",
       " 'n11',\n",
       " 'n12',\n",
       " 'n13',\n",
       " 'n14']"
      ]
     },
     "execution_count": 265,
     "metadata": {},
     "output_type": "execute_result"
    }
   ],
   "source": [
    "numerical_fea = list(data_train.select_dtypes(exclude='object').columns)\n",
    "category_fea = list(filter(lambda x: x not in numerical_fea, list(data_train.columns)))\n",
    "label = 'isDefault'\n",
    "numerical_fea.remove(label)\n",
    "numerical_fea\n"
   ]
  },
  {
   "cell_type": "code",
   "execution_count": 266,
   "metadata": {},
   "outputs": [
    {
     "data": {
      "text/plain": [
       "['grade', 'subGrade', 'employmentLength', 'issueDate', 'earliesCreditLine']"
      ]
     },
     "execution_count": 266,
     "metadata": {},
     "output_type": "execute_result"
    }
   ],
   "source": [
    "category_fea"
   ]
  },
  {
   "attachments": {},
   "cell_type": "markdown",
   "metadata": {},
   "source": [
    "2. 缺失值填充"
   ]
  },
  {
   "attachments": {},
   "cell_type": "markdown",
   "metadata": {},
   "source": [
    "* 0 填\n",
    "  * data_train = data_trian.fillno(0)\n",
    "+ 上填\n",
    "  * data_trian = data_trian.fillno(axis=0, method='ffill)\n",
    "- 下填且设置最多只填充两个连续的值\n",
    "  * data_train = data_train.fillna(axis=0,method='bfill',limit=2)"
   ]
  },
  {
   "cell_type": "code",
   "execution_count": 267,
   "metadata": {},
   "outputs": [
    {
     "data": {
      "text/plain": [
       "id                        0\n",
       "loanAmnt                  0\n",
       "term                      0\n",
       "interestRate              0\n",
       "installment               0\n",
       "grade                     0\n",
       "subGrade                  0\n",
       "employmentTitle           1\n",
       "employmentLength      46799\n",
       "homeOwnership             0\n",
       "annualIncome              0\n",
       "verificationStatus        0\n",
       "issueDate                 0\n",
       "isDefault                 0\n",
       "purpose                   0\n",
       "postCode                  1\n",
       "regionCode                0\n",
       "dti                     239\n",
       "delinquency_2years        0\n",
       "ficoRangeLow              0\n",
       "ficoRangeHigh             0\n",
       "openAcc                   0\n",
       "pubRec                    0\n",
       "pubRecBankruptcies      405\n",
       "revolBal                  0\n",
       "revolUtil               531\n",
       "totalAcc                  0\n",
       "initialListStatus         0\n",
       "applicationType           0\n",
       "earliesCreditLine         0\n",
       "title                     1\n",
       "policyCode                0\n",
       "n0                    40270\n",
       "n1                    40270\n",
       "n2                    40270\n",
       "n3                    40270\n",
       "n4                    33239\n",
       "n5                    40270\n",
       "n6                    40270\n",
       "n7                    40270\n",
       "n8                    40271\n",
       "n9                    40270\n",
       "n10                   33239\n",
       "n11                   69752\n",
       "n12                   40270\n",
       "n13                   40270\n",
       "n14                   40270\n",
       "dtype: int64"
      ]
     },
     "execution_count": 267,
     "metadata": {},
     "output_type": "execute_result"
    }
   ],
   "source": [
    "data_train.isnull().sum()"
   ]
  },
  {
   "cell_type": "code",
   "execution_count": 268,
   "metadata": {},
   "outputs": [],
   "source": [
    "# 按照平均值填充\n",
    "data_train[numerical_fea] = data_train[numerical_fea].fillna(data_train[numerical_fea].mean())\n",
    "data_test_a[numerical_fea] = data_test_a[numerical_fea].fillna(data_test_a[numerical_fea].mean())"
   ]
  },
  {
   "cell_type": "code",
   "execution_count": 269,
   "metadata": {},
   "outputs": [
    {
     "data": {
      "text/plain": [
       "id                        0\n",
       "loanAmnt                  0\n",
       "term                      0\n",
       "interestRate              0\n",
       "installment               0\n",
       "grade                     0\n",
       "subGrade                  0\n",
       "employmentTitle           0\n",
       "employmentLength      46799\n",
       "homeOwnership             0\n",
       "annualIncome              0\n",
       "verificationStatus        0\n",
       "issueDate                 0\n",
       "isDefault                 0\n",
       "purpose                   0\n",
       "postCode                  0\n",
       "regionCode                0\n",
       "dti                       0\n",
       "delinquency_2years        0\n",
       "ficoRangeLow              0\n",
       "ficoRangeHigh             0\n",
       "openAcc                   0\n",
       "pubRec                    0\n",
       "pubRecBankruptcies        0\n",
       "revolBal                  0\n",
       "revolUtil                 0\n",
       "totalAcc                  0\n",
       "initialListStatus         0\n",
       "applicationType           0\n",
       "earliesCreditLine         0\n",
       "title                     0\n",
       "policyCode                0\n",
       "n0                        0\n",
       "n1                        0\n",
       "n2                        0\n",
       "n3                        0\n",
       "n4                        0\n",
       "n5                        0\n",
       "n6                        0\n",
       "n7                        0\n",
       "n8                        0\n",
       "n9                        0\n",
       "n10                       0\n",
       "n11                       0\n",
       "n12                       0\n",
       "n13                       0\n",
       "n14                       0\n",
       "dtype: int64"
      ]
     },
     "execution_count": 269,
     "metadata": {},
     "output_type": "execute_result"
    }
   ],
   "source": [
    "data_train.isnull().sum()"
   ]
  },
  {
   "cell_type": "code",
   "execution_count": 270,
   "metadata": {},
   "outputs": [
    {
     "data": {
      "text/plain": [
       "count        753201\n",
       "unique           11\n",
       "top       10+ years\n",
       "freq         262753\n",
       "Name: employmentLength, dtype: object"
      ]
     },
     "execution_count": 270,
     "metadata": {},
     "output_type": "execute_result"
    }
   ],
   "source": [
    "data_train['employmentLength'].describe()"
   ]
  },
  {
   "cell_type": "code",
   "execution_count": 271,
   "metadata": {},
   "outputs": [
    {
     "data": {
      "text/plain": [
       "46799"
      ]
     },
     "execution_count": 271,
     "metadata": {},
     "output_type": "execute_result"
    }
   ],
   "source": [
    "data_train['employmentLength'].isnull().sum()"
   ]
  },
  {
   "attachments": {},
   "cell_type": "markdown",
   "metadata": {},
   "source": [
    "## 处理类别特征"
   ]
  },
  {
   "cell_type": "code",
   "execution_count": 272,
   "metadata": {},
   "outputs": [
    {
     "data": {
      "text/plain": [
       "['grade', 'subGrade', 'employmentLength', 'issueDate', 'earliesCreditLine']"
      ]
     },
     "execution_count": 272,
     "metadata": {},
     "output_type": "execute_result"
    }
   ],
   "source": [
    "category_fea"
   ]
  },
  {
   "attachments": {},
   "cell_type": "markdown",
   "metadata": {},
   "source": [
    "#### 时间格式的处理"
   ]
  },
  {
   "cell_type": "code",
   "execution_count": 273,
   "metadata": {},
   "outputs": [],
   "source": [
    "startdate = pd.to_datetime(data_train['issueDate'].min(), format='%Y-%m-%d')"
   ]
  },
  {
   "cell_type": "code",
   "execution_count": 274,
   "metadata": {},
   "outputs": [],
   "source": [
    "for data in [data_train, data_test_a]:\n",
    "    data['issueDate'] = pd.to_datetime(data['issueDate'], format='%Y-%m-%d')\n",
    "    #构造时间特征\n",
    "    data['issueDateDT'] = data['issueDate'].apply(lambda x: x-startdate).dt.days\n",
    "    data['issueDate_year'] = data['issueDate'].dt.year\n",
    "    data['issueDate_month'] = data['issueDate'].dt.month\n",
    "    # data_train['issueDate_day'].value_counts() # 唯一值，所以可以删去\n",
    "    data.drop('issueDate', axis=1, inplace=True)"
   ]
  },
  {
   "cell_type": "code",
   "execution_count": 275,
   "metadata": {},
   "outputs": [
    {
     "data": {
      "text/plain": [
       "1 year        52489\n",
       "10+ years    262753\n",
       "2 years       72358\n",
       "3 years       64152\n",
       "4 years       47985\n",
       "5 years       50102\n",
       "6 years       37254\n",
       "7 years       35407\n",
       "8 years       36192\n",
       "9 years       30272\n",
       "< 1 year      64237\n",
       "NaN           46799\n",
       "Name: employmentLength, dtype: int64"
      ]
     },
     "execution_count": 275,
     "metadata": {},
     "output_type": "execute_result"
    }
   ],
   "source": [
    "data_train['employmentLength'].value_counts(dropna=False).sort_index()"
   ]
  },
  {
   "attachments": {},
   "cell_type": "markdown",
   "metadata": {},
   "source": [
    "##### 对象类型转换为数值"
   ]
  },
  {
   "cell_type": "code",
   "execution_count": 276,
   "metadata": {},
   "outputs": [],
   "source": [
    "def employmenLength_to_int(s):\n",
    "    if pd.isnull(s):\n",
    "        return s\n",
    "    else: \n",
    "        return np.int8(s.split()[0])\n",
    "\n",
    "for data in [data_train, data_test_a]:\n",
    "    data['employmentLength'].replace('10+ years', \"10 years\", inplace=True)\n",
    "    data['employmentLength'].replace('< 1 year', \"1 years\", inplace=True)\n",
    "    data['employmentLength'] = data['employmentLength'].apply(lambda x: employmenLength_to_int(x))\n"
   ]
  },
  {
   "cell_type": "code",
   "execution_count": 277,
   "metadata": {},
   "outputs": [
    {
     "data": {
      "text/plain": [
       "1.0     116726\n",
       "2.0      72358\n",
       "3.0      64152\n",
       "4.0      47985\n",
       "5.0      50102\n",
       "6.0      37254\n",
       "7.0      35407\n",
       "8.0      36192\n",
       "9.0      30272\n",
       "10.0    262753\n",
       "NaN      46799\n",
       "Name: employmentLength, dtype: int64"
      ]
     },
     "execution_count": 277,
     "metadata": {},
     "output_type": "execute_result"
    }
   ],
   "source": [
    "data_train['employmentLength'].value_counts(dropna=False).sort_index()"
   ]
  },
  {
   "cell_type": "code",
   "execution_count": 278,
   "metadata": {},
   "outputs": [],
   "source": [
    "data_train['employmentLength'] = data_train['employmentLength'].fillna(data_train['employmentLength'].std())"
   ]
  },
  {
   "cell_type": "code",
   "execution_count": 279,
   "metadata": {},
   "outputs": [
    {
     "data": {
      "text/plain": [
       "137803    Nov-2005\n",
       "481944    Sep-2011\n",
       "704131    Apr-2002\n",
       "258700    May-2007\n",
       "535839    Jun-2007\n",
       "Name: earliesCreditLine, dtype: object"
      ]
     },
     "execution_count": 279,
     "metadata": {},
     "output_type": "execute_result"
    }
   ],
   "source": [
    "data_train['earliesCreditLine'].sample(5)"
   ]
  },
  {
   "cell_type": "code",
   "execution_count": 280,
   "metadata": {},
   "outputs": [],
   "source": [
    "for data in [data_train, data_test_a]:\n",
    "    data['earliesCreditLine_year'] = data['earliesCreditLine'].apply(lambda x: int(x[-4:]))\n",
    "    # data['earliesCreditLine_month'] = data['earliesCreditLine'].apply(lambda x: str(x[:3])) 缺失值太多，没什么意义\n",
    "    data.drop('earliesCreditLine', axis=1, inplace=True)"
   ]
  },
  {
   "cell_type": "code",
   "execution_count": 281,
   "metadata": {},
   "outputs": [],
   "source": [
    "# for data in [data_train, data_test_a]:\n",
    "#     data['earliesCreditLine_month'] = data['earliesCreditLine_month'].map({'Jun': 1, 'Feb' : 2, 'Mar': 3, 'April': 4,\n",
    "#                                                                       'May': 5, 'Jun': 6, 'Jul': 7, 'Aug': 8, \n",
    "#                                                                       'Sep': 9, 'Oct': 10, 'Nov': 11, 'Dec': 12})\n",
    "# data['earliesCreditLine_month'].value_counts()"
   ]
  },
  {
   "attachments": {},
   "cell_type": "markdown",
   "metadata": {},
   "source": [
    "## 类别特征的处理"
   ]
  },
  {
   "attachments": {},
   "cell_type": "markdown",
   "metadata": {},
   "source": [
    "    首先查看类别特征的类别数"
   ]
  },
  {
   "cell_type": "code",
   "execution_count": 283,
   "metadata": {},
   "outputs": [
    {
     "name": "stdout",
     "output_type": "stream",
     "text": [
      "grade: 类型数 ：7\n",
      "subGrade: 类型数 ：35\n",
      "employmentTitle: 类型数 ：79282\n",
      "homeOwnership: 类型数 ：6\n",
      "verificationStatus: 类型数 ：3\n",
      "purpose: 类型数 ：14\n",
      "postCode: 类型数 ：889\n",
      "regionCode: 类型数 ：51\n",
      "applicationType: 类型数 ：2\n",
      "initialListStatus: 类型数 ：2\n",
      "title: 类型数 ：12058\n",
      "policyCode: 类型数 ：1\n"
     ]
    }
   ],
   "source": [
    "cate_features = ['grade', 'subGrade', 'employmentTitle', 'homeOwnership', 'verificationStatus', 'purpose', 'postCode', 'regionCode', \\\n",
    "                 'applicationType', 'initialListStatus', 'title', 'policyCode']\n",
    "for col in cate_features:\n",
    "    print('{}: 类型数 ：{}'.format(col, data[col].nunique()))"
   ]
  },
  {
   "attachments": {},
   "cell_type": "markdown",
   "metadata": {},
   "source": [
    "* 类型数目为 1 的，说明该特征对于训练集无任何效果，可以删去。\n",
    "* 低维的且有*优先级的*的首先考虑自映射和labelEncode编码\n",
    "* 类型数在2之上，又不是高维稀疏的,且纯分类特征(注意：多少类型就会产生多少新的列)"
   ]
  },
  {
   "cell_type": "code",
   "execution_count": 284,
   "metadata": {},
   "outputs": [],
   "source": [
    "for data in [data_train, data_test_a]:\n",
    "    data.drop(['policyCode'], axis=1, inplace=True)\n",
    "    data['grade'] = data['grade'].map({'A':1,'B':2,'C':3,'D':4,'E':5,'F':6,'G':7})\n",
    "    # data = pd.get_dummies(data, columns=['subGrade', 'homeOwnership', 'verificationStatus', 'purpose', 'regionCode'], drop_first=True)"
   ]
  },
  {
   "cell_type": "code",
   "execution_count": 285,
   "metadata": {},
   "outputs": [
    {
     "data": {
      "text/plain": [
       "A1    25909\n",
       "A2    22124\n",
       "A3    22655\n",
       "A4    30928\n",
       "A5    38045\n",
       "B1    42382\n",
       "B2    44227\n",
       "B3    48600\n",
       "B4    49516\n",
       "B5    48965\n",
       "C1    50763\n",
       "C2    47068\n",
       "C3    44751\n",
       "C4    44272\n",
       "C5    40264\n",
       "D1    30538\n",
       "D2    26528\n",
       "D3    23410\n",
       "D4    21139\n",
       "D5    17838\n",
       "E1    14064\n",
       "E2    12746\n",
       "E3    10925\n",
       "E4     9273\n",
       "E5     8653\n",
       "F1     5925\n",
       "F2     4340\n",
       "F3     3577\n",
       "F4     2859\n",
       "F5     2352\n",
       "G1     1759\n",
       "G2     1231\n",
       "G3      978\n",
       "G4      751\n",
       "G5      645\n",
       "Name: subGrade, dtype: int64"
      ]
     },
     "execution_count": 285,
     "metadata": {},
     "output_type": "execute_result"
    }
   ],
   "source": [
    "data_train['subGrade'].value_counts().sort_index()"
   ]
  },
  {
   "cell_type": "code",
   "execution_count": 286,
   "metadata": {},
   "outputs": [
    {
     "name": "stderr",
     "output_type": "stream",
     "text": [
      "100%|██████████| 4/4 [00:07<00:00,  1.88s/it]"
     ]
    },
    {
     "name": "stdout",
     "output_type": "stream",
     "text": [
      "Label Encoding 完成\n"
     ]
    },
    {
     "name": "stderr",
     "output_type": "stream",
     "text": [
      "\n"
     ]
    }
   ],
   "source": [
    "# 高维类别特征需要进行转换\n",
    "for col in tqdm(['employmentTitle', 'postCode', 'title','subGrade']):\n",
    "    le = LabelEncoder()\n",
    "    le.fit(list(data_train[col].astype(str).values) + list(data_test_a[col].astype(str).values))\n",
    "    data_train[col] = le.transform(list(data_train[col].astype(str).values))\n",
    "    data_test_a[col] = le.transform(list(data_test_a[col].astype(str).values))\n",
    "print('Label Encoding 完成')"
   ]
  },
  {
   "cell_type": "code",
   "execution_count": 287,
   "metadata": {},
   "outputs": [
    {
     "data": {
      "text/plain": [
       "10    12857\n",
       "8     12423\n",
       "9     12400\n",
       "7     12100\n",
       "11    11791\n",
       "13    11110\n",
       "12    11018\n",
       "6     10898\n",
       "5     10544\n",
       "14     9925\n",
       "4      9629\n",
       "3      7753\n",
       "15     7667\n",
       "16     6713\n",
       "0      6398\n",
       "17     5821\n",
       "2      5644\n",
       "1      5503\n",
       "18     5236\n",
       "19     4487\n",
       "20     3527\n",
       "21     3175\n",
       "22     2780\n",
       "23     2414\n",
       "24     2114\n",
       "25     1462\n",
       "26     1073\n",
       "27      906\n",
       "28      714\n",
       "29      543\n",
       "30      488\n",
       "31      325\n",
       "32      232\n",
       "33      166\n",
       "34      164\n",
       "Name: subGrade, dtype: int64"
      ]
     },
     "execution_count": 287,
     "metadata": {},
     "output_type": "execute_result"
    }
   ],
   "source": [
    "data_test_a['subGrade'].value_counts()"
   ]
  },
  {
   "cell_type": "code",
   "execution_count": 288,
   "metadata": {},
   "outputs": [
    {
     "data": {
      "text/html": [
       "<div>\n",
       "<style scoped>\n",
       "    .dataframe tbody tr th:only-of-type {\n",
       "        vertical-align: middle;\n",
       "    }\n",
       "\n",
       "    .dataframe tbody tr th {\n",
       "        vertical-align: top;\n",
       "    }\n",
       "\n",
       "    .dataframe thead th {\n",
       "        text-align: right;\n",
       "    }\n",
       "</style>\n",
       "<table border=\"1\" class=\"dataframe\">\n",
       "  <thead>\n",
       "    <tr style=\"text-align: right;\">\n",
       "      <th></th>\n",
       "    </tr>\n",
       "  </thead>\n",
       "  <tbody>\n",
       "    <tr>\n",
       "      <th>0</th>\n",
       "    </tr>\n",
       "    <tr>\n",
       "      <th>1</th>\n",
       "    </tr>\n",
       "    <tr>\n",
       "      <th>2</th>\n",
       "    </tr>\n",
       "    <tr>\n",
       "      <th>3</th>\n",
       "    </tr>\n",
       "    <tr>\n",
       "      <th>4</th>\n",
       "    </tr>\n",
       "    <tr>\n",
       "      <th>...</th>\n",
       "    </tr>\n",
       "    <tr>\n",
       "      <th>799995</th>\n",
       "    </tr>\n",
       "    <tr>\n",
       "      <th>799996</th>\n",
       "    </tr>\n",
       "    <tr>\n",
       "      <th>799997</th>\n",
       "    </tr>\n",
       "    <tr>\n",
       "      <th>799998</th>\n",
       "    </tr>\n",
       "    <tr>\n",
       "      <th>799999</th>\n",
       "    </tr>\n",
       "  </tbody>\n",
       "</table>\n",
       "<p>800000 rows × 0 columns</p>\n",
       "</div>"
      ],
      "text/plain": [
       "Empty DataFrame\n",
       "Columns: []\n",
       "Index: [0, 1, 2, 3, 4, 5, 6, 7, 8, 9, 10, 11, 12, 13, 14, 15, 16, 17, 18, 19, 20, 21, 22, 23, 24, 25, 26, 27, 28, 29, 30, 31, 32, 33, 34, 35, 36, 37, 38, 39, 40, 41, 42, 43, 44, 45, 46, 47, 48, 49, 50, 51, 52, 53, 54, 55, 56, 57, 58, 59, 60, 61, 62, 63, 64, 65, 66, 67, 68, 69, 70, 71, 72, 73, 74, 75, 76, 77, 78, 79, 80, 81, 82, 83, 84, 85, 86, 87, 88, 89, 90, 91, 92, 93, 94, 95, 96, 97, 98, 99, ...]\n",
       "\n",
       "[800000 rows x 0 columns]"
      ]
     },
     "execution_count": 288,
     "metadata": {},
     "output_type": "execute_result"
    }
   ],
   "source": [
    "data_train.select_dtypes(include='object')"
   ]
  },
  {
   "cell_type": "code",
   "execution_count": 289,
   "metadata": {},
   "outputs": [
    {
     "data": {
      "text/html": [
       "<div>\n",
       "<style scoped>\n",
       "    .dataframe tbody tr th:only-of-type {\n",
       "        vertical-align: middle;\n",
       "    }\n",
       "\n",
       "    .dataframe tbody tr th {\n",
       "        vertical-align: top;\n",
       "    }\n",
       "\n",
       "    .dataframe thead th {\n",
       "        text-align: right;\n",
       "    }\n",
       "</style>\n",
       "<table border=\"1\" class=\"dataframe\">\n",
       "  <thead>\n",
       "    <tr style=\"text-align: right;\">\n",
       "      <th></th>\n",
       "    </tr>\n",
       "  </thead>\n",
       "  <tbody>\n",
       "    <tr>\n",
       "      <th>0</th>\n",
       "    </tr>\n",
       "    <tr>\n",
       "      <th>1</th>\n",
       "    </tr>\n",
       "    <tr>\n",
       "      <th>2</th>\n",
       "    </tr>\n",
       "    <tr>\n",
       "      <th>3</th>\n",
       "    </tr>\n",
       "    <tr>\n",
       "      <th>4</th>\n",
       "    </tr>\n",
       "    <tr>\n",
       "      <th>...</th>\n",
       "    </tr>\n",
       "    <tr>\n",
       "      <th>199995</th>\n",
       "    </tr>\n",
       "    <tr>\n",
       "      <th>199996</th>\n",
       "    </tr>\n",
       "    <tr>\n",
       "      <th>199997</th>\n",
       "    </tr>\n",
       "    <tr>\n",
       "      <th>199998</th>\n",
       "    </tr>\n",
       "    <tr>\n",
       "      <th>199999</th>\n",
       "    </tr>\n",
       "  </tbody>\n",
       "</table>\n",
       "<p>200000 rows × 0 columns</p>\n",
       "</div>"
      ],
      "text/plain": [
       "Empty DataFrame\n",
       "Columns: []\n",
       "Index: [0, 1, 2, 3, 4, 5, 6, 7, 8, 9, 10, 11, 12, 13, 14, 15, 16, 17, 18, 19, 20, 21, 22, 23, 24, 25, 26, 27, 28, 29, 30, 31, 32, 33, 34, 35, 36, 37, 38, 39, 40, 41, 42, 43, 44, 45, 46, 47, 48, 49, 50, 51, 52, 53, 54, 55, 56, 57, 58, 59, 60, 61, 62, 63, 64, 65, 66, 67, 68, 69, 70, 71, 72, 73, 74, 75, 76, 77, 78, 79, 80, 81, 82, 83, 84, 85, 86, 87, 88, 89, 90, 91, 92, 93, 94, 95, 96, 97, 98, 99, ...]\n",
       "\n",
       "[200000 rows x 0 columns]"
      ]
     },
     "execution_count": 289,
     "metadata": {},
     "output_type": "execute_result"
    }
   ],
   "source": [
    "data_test_a.select_dtypes(include='object')"
   ]
  },
  {
   "attachments": {},
   "cell_type": "markdown",
   "metadata": {},
   "source": [
    "## 异常值的处理（只针对训练集）"
   ]
  },
  {
   "attachments": {},
   "cell_type": "markdown",
   "metadata": {},
   "source": [
    "* 当你发现异常值后，一定要先分清是什么原因导致的异常值，然后再考虑如何处理。首先，如果这一异常值并不代表一种规律性的，而是极其偶然的现象，或者说你并不想研究这种偶然的现象，这时可以将其删除。其次，如果异常值存在且代表了一种真实存在的现象，那就不能随便删除。**在现有的欺诈场景中很多时候欺诈数据本身相对于正常数据勒说就是异常的，我们要把这些异常点纳入，重新拟合模型，研究其规律**。能用监督的用监督模型，不能用的还可以考虑用异常检测的算法来做\n",
    "* 注意test的数据不能删除"
   ]
  },
  {
   "attachments": {},
   "cell_type": "markdown",
   "metadata": {},
   "source": [
    "### 检测异常的方法一：均方差"
   ]
  },
  {
   "attachments": {},
   "cell_type": "markdown",
   "metadata": {},
   "source": [
    "* 在统计学中，如果一个数据分布近似正态，那么大约 68% 的数据值会在均值的一个标准差范围内，大约 95% 会在两个标准差范围内，大约 99.7% 会在三个标准差范围内"
   ]
  },
  {
   "cell_type": "code",
   "execution_count": 290,
   "metadata": {},
   "outputs": [],
   "source": [
    "def find_outliers_by_3segama(data,fea):\n",
    "    data_std = np.std(data[fea])\n",
    "    data_mean = np.std(data[fea])\n",
    "    outliers_cut_off = data_std * 3\n",
    "    lower_rul = data_mean - outliers_cut_off\n",
    "    upper_rul = data_mean + outliers_cut_off\n",
    "    data[fea+'_outliers'] = data[fea].apply(lambda x:str(\"异常值\") if x > upper_rul or x < lower_rul else str('正常值'))\n",
    "    return data"
   ]
  },
  {
   "cell_type": "code",
   "execution_count": 291,
   "metadata": {},
   "outputs": [
    {
     "data": {
      "text/html": [
       "<div>\n",
       "<style scoped>\n",
       "    .dataframe tbody tr th:only-of-type {\n",
       "        vertical-align: middle;\n",
       "    }\n",
       "\n",
       "    .dataframe tbody tr th {\n",
       "        vertical-align: top;\n",
       "    }\n",
       "\n",
       "    .dataframe thead th {\n",
       "        text-align: right;\n",
       "    }\n",
       "</style>\n",
       "<table border=\"1\" class=\"dataframe\">\n",
       "  <thead>\n",
       "    <tr style=\"text-align: right;\">\n",
       "      <th></th>\n",
       "      <th>id</th>\n",
       "      <th>loanAmnt</th>\n",
       "      <th>term</th>\n",
       "      <th>interestRate</th>\n",
       "      <th>installment</th>\n",
       "      <th>grade</th>\n",
       "      <th>subGrade</th>\n",
       "      <th>employmentTitle</th>\n",
       "      <th>employmentLength</th>\n",
       "      <th>homeOwnership</th>\n",
       "      <th>...</th>\n",
       "      <th>n9</th>\n",
       "      <th>n10</th>\n",
       "      <th>n11</th>\n",
       "      <th>n12</th>\n",
       "      <th>n13</th>\n",
       "      <th>n14</th>\n",
       "      <th>issueDateDT</th>\n",
       "      <th>issueDate_year</th>\n",
       "      <th>issueDate_month</th>\n",
       "      <th>earliesCreditLine_year</th>\n",
       "    </tr>\n",
       "  </thead>\n",
       "  <tbody>\n",
       "    <tr>\n",
       "      <th>683611</th>\n",
       "      <td>683611</td>\n",
       "      <td>40000.0</td>\n",
       "      <td>5</td>\n",
       "      <td>18.06</td>\n",
       "      <td>1017.05</td>\n",
       "      <td>4</td>\n",
       "      <td>16</td>\n",
       "      <td>263632</td>\n",
       "      <td>1.000000</td>\n",
       "      <td>0</td>\n",
       "      <td>...</td>\n",
       "      <td>9.000000</td>\n",
       "      <td>17.000000</td>\n",
       "      <td>0.000000</td>\n",
       "      <td>0.000000</td>\n",
       "      <td>0.000000</td>\n",
       "      <td>4.000000</td>\n",
       "      <td>3806</td>\n",
       "      <td>2017</td>\n",
       "      <td>11</td>\n",
       "      <td>2001</td>\n",
       "    </tr>\n",
       "    <tr>\n",
       "      <th>462199</th>\n",
       "      <td>462199</td>\n",
       "      <td>5750.0</td>\n",
       "      <td>3</td>\n",
       "      <td>14.65</td>\n",
       "      <td>198.35</td>\n",
       "      <td>3</td>\n",
       "      <td>14</td>\n",
       "      <td>256267</td>\n",
       "      <td>3.560799</td>\n",
       "      <td>0</td>\n",
       "      <td>...</td>\n",
       "      <td>8.000000</td>\n",
       "      <td>16.000000</td>\n",
       "      <td>0.000815</td>\n",
       "      <td>0.000000</td>\n",
       "      <td>1.000000</td>\n",
       "      <td>4.000000</td>\n",
       "      <td>3014</td>\n",
       "      <td>2015</td>\n",
       "      <td>9</td>\n",
       "      <td>1990</td>\n",
       "    </tr>\n",
       "    <tr>\n",
       "      <th>625505</th>\n",
       "      <td>625505</td>\n",
       "      <td>15500.0</td>\n",
       "      <td>5</td>\n",
       "      <td>14.31</td>\n",
       "      <td>363.16</td>\n",
       "      <td>3</td>\n",
       "      <td>13</td>\n",
       "      <td>251637</td>\n",
       "      <td>3.000000</td>\n",
       "      <td>2</td>\n",
       "      <td>...</td>\n",
       "      <td>3.000000</td>\n",
       "      <td>13.000000</td>\n",
       "      <td>0.000000</td>\n",
       "      <td>0.000000</td>\n",
       "      <td>0.000000</td>\n",
       "      <td>2.000000</td>\n",
       "      <td>2771</td>\n",
       "      <td>2015</td>\n",
       "      <td>1</td>\n",
       "      <td>1995</td>\n",
       "    </tr>\n",
       "    <tr>\n",
       "      <th>521692</th>\n",
       "      <td>521692</td>\n",
       "      <td>11000.0</td>\n",
       "      <td>3</td>\n",
       "      <td>15.65</td>\n",
       "      <td>384.85</td>\n",
       "      <td>4</td>\n",
       "      <td>18</td>\n",
       "      <td>126455</td>\n",
       "      <td>10.000000</td>\n",
       "      <td>1</td>\n",
       "      <td>...</td>\n",
       "      <td>5.592345</td>\n",
       "      <td>11.643896</td>\n",
       "      <td>0.000815</td>\n",
       "      <td>0.003384</td>\n",
       "      <td>0.089366</td>\n",
       "      <td>2.178606</td>\n",
       "      <td>884</td>\n",
       "      <td>2009</td>\n",
       "      <td>11</td>\n",
       "      <td>2001</td>\n",
       "    </tr>\n",
       "    <tr>\n",
       "      <th>111769</th>\n",
       "      <td>111769</td>\n",
       "      <td>5525.0</td>\n",
       "      <td>3</td>\n",
       "      <td>12.99</td>\n",
       "      <td>186.14</td>\n",
       "      <td>3</td>\n",
       "      <td>11</td>\n",
       "      <td>256267</td>\n",
       "      <td>3.560799</td>\n",
       "      <td>1</td>\n",
       "      <td>...</td>\n",
       "      <td>5.000000</td>\n",
       "      <td>7.000000</td>\n",
       "      <td>0.000000</td>\n",
       "      <td>0.000000</td>\n",
       "      <td>0.000000</td>\n",
       "      <td>0.000000</td>\n",
       "      <td>3227</td>\n",
       "      <td>2016</td>\n",
       "      <td>4</td>\n",
       "      <td>1997</td>\n",
       "    </tr>\n",
       "  </tbody>\n",
       "</table>\n",
       "<p>5 rows × 48 columns</p>\n",
       "</div>"
      ],
      "text/plain": [
       "            id  loanAmnt  term  interestRate  installment  grade  subGrade  \\\n",
       "683611  683611   40000.0     5         18.06      1017.05      4        16   \n",
       "462199  462199    5750.0     3         14.65       198.35      3        14   \n",
       "625505  625505   15500.0     5         14.31       363.16      3        13   \n",
       "521692  521692   11000.0     3         15.65       384.85      4        18   \n",
       "111769  111769    5525.0     3         12.99       186.14      3        11   \n",
       "\n",
       "        employmentTitle  employmentLength  homeOwnership  ...        n9  \\\n",
       "683611           263632          1.000000              0  ...  9.000000   \n",
       "462199           256267          3.560799              0  ...  8.000000   \n",
       "625505           251637          3.000000              2  ...  3.000000   \n",
       "521692           126455         10.000000              1  ...  5.592345   \n",
       "111769           256267          3.560799              1  ...  5.000000   \n",
       "\n",
       "              n10       n11       n12       n13       n14  issueDateDT  \\\n",
       "683611  17.000000  0.000000  0.000000  0.000000  4.000000         3806   \n",
       "462199  16.000000  0.000815  0.000000  1.000000  4.000000         3014   \n",
       "625505  13.000000  0.000000  0.000000  0.000000  2.000000         2771   \n",
       "521692  11.643896  0.000815  0.003384  0.089366  2.178606          884   \n",
       "111769   7.000000  0.000000  0.000000  0.000000  0.000000         3227   \n",
       "\n",
       "        issueDate_year  issueDate_month  earliesCreditLine_year  \n",
       "683611            2017               11                    2001  \n",
       "462199            2015                9                    1990  \n",
       "625505            2015                1                    1995  \n",
       "521692            2009               11                    2001  \n",
       "111769            2016                4                    1997  \n",
       "\n",
       "[5 rows x 48 columns]"
      ]
     },
     "execution_count": 291,
     "metadata": {},
     "output_type": "execute_result"
    }
   ],
   "source": [
    "data_train.sample(5)"
   ]
  },
  {
   "cell_type": "code",
   "execution_count": 292,
   "metadata": {},
   "outputs": [
    {
     "name": "stdout",
     "output_type": "stream",
     "text": [
      "----------------------------------------\n",
      "正常值    800000\n",
      "Name: id_outliers, dtype: int64\n",
      "id_outliers\n",
      "正常值    159610\n",
      "Name: isDefault, dtype: int64\n",
      "----------------------------------------\n",
      "----------------------------------------\n",
      "正常值    764021\n",
      "异常值     35979\n",
      "Name: loanAmnt_outliers, dtype: int64\n",
      "loanAmnt_outliers\n",
      "异常值      8564\n",
      "正常值    151046\n",
      "Name: isDefault, dtype: int64\n",
      "----------------------------------------\n",
      "----------------------------------------\n",
      "正常值    606902\n",
      "异常值    193098\n",
      "Name: term_outliers, dtype: int64\n",
      "term_outliers\n",
      "异常值    62484\n",
      "正常值    97126\n",
      "Name: isDefault, dtype: int64\n",
      "----------------------------------------\n",
      "----------------------------------------\n",
      "正常值    714521\n",
      "异常值     85479\n",
      "Name: interestRate_outliers, dtype: int64\n",
      "interestRate_outliers\n",
      "异常值     33801\n",
      "正常值    125809\n",
      "Name: isDefault, dtype: int64\n",
      "----------------------------------------\n",
      "----------------------------------------\n",
      "正常值    771811\n",
      "异常值     28189\n",
      "Name: installment_outliers, dtype: int64\n",
      "installment_outliers\n",
      "异常值      6104\n",
      "正常值    153506\n",
      "Name: isDefault, dtype: int64\n",
      "----------------------------------------\n",
      "----------------------------------------\n",
      "正常值    775583\n",
      "异常值     24417\n",
      "Name: grade_outliers, dtype: int64\n",
      "grade_outliers\n",
      "异常值     11307\n",
      "正常值    148303\n",
      "Name: isDefault, dtype: int64\n",
      "----------------------------------------\n",
      "----------------------------------------\n",
      "正常值    781508\n",
      "异常值     18492\n",
      "Name: subGrade_outliers, dtype: int64\n",
      "subGrade_outliers\n",
      "异常值      8780\n",
      "正常值    150830\n",
      "Name: isDefault, dtype: int64\n",
      "----------------------------------------\n",
      "----------------------------------------\n",
      "正常值    800000\n",
      "Name: employmentTitle_outliers, dtype: int64\n",
      "employmentTitle_outliers\n",
      "正常值    159610\n",
      "Name: isDefault, dtype: int64\n",
      "----------------------------------------\n",
      "----------------------------------------\n",
      "正常值    800000\n",
      "Name: employmentLength_outliers, dtype: int64\n",
      "employmentLength_outliers\n",
      "正常值    159610\n",
      "Name: isDefault, dtype: int64\n",
      "----------------------------------------\n",
      "----------------------------------------\n",
      "正常值    799701\n",
      "异常值       299\n",
      "Name: homeOwnership_outliers, dtype: int64\n",
      "homeOwnership_outliers\n",
      "异常值        62\n",
      "正常值    159548\n",
      "Name: isDefault, dtype: int64\n",
      "----------------------------------------\n",
      "----------------------------------------\n",
      "正常值    793647\n",
      "异常值      6353\n",
      "Name: annualIncome_outliers, dtype: int64\n",
      "annualIncome_outliers\n",
      "异常值       814\n",
      "正常值    158796\n",
      "Name: isDefault, dtype: int64\n",
      "----------------------------------------\n",
      "----------------------------------------\n",
      "正常值    800000\n",
      "Name: verificationStatus_outliers, dtype: int64\n",
      "verificationStatus_outliers\n",
      "正常值    159610\n",
      "Name: isDefault, dtype: int64\n",
      "----------------------------------------\n",
      "----------------------------------------\n",
      "正常值    800000\n",
      "Name: isDefault_outliers, dtype: int64\n",
      "isDefault_outliers\n",
      "正常值    159610\n",
      "Name: isDefault, dtype: int64\n",
      "----------------------------------------\n",
      "----------------------------------------\n",
      "正常值    792241\n",
      "异常值      7759\n",
      "Name: purpose_outliers, dtype: int64\n",
      "purpose_outliers\n",
      "异常值      1618\n",
      "正常值    157992\n",
      "Name: isDefault, dtype: int64\n",
      "----------------------------------------\n",
      "----------------------------------------\n",
      "正常值    800000\n",
      "Name: postCode_outliers, dtype: int64\n",
      "postCode_outliers\n",
      "正常值    159610\n",
      "Name: isDefault, dtype: int64\n",
      "----------------------------------------\n",
      "----------------------------------------\n",
      "正常值    789015\n",
      "异常值     10985\n",
      "Name: regionCode_outliers, dtype: int64\n",
      "regionCode_outliers\n",
      "异常值      1945\n",
      "正常值    157665\n",
      "Name: isDefault, dtype: int64\n",
      "----------------------------------------\n",
      "----------------------------------------\n",
      "正常值    797310\n",
      "异常值      2690\n",
      "Name: dti_outliers, dtype: int64\n",
      "dti_outliers\n",
      "异常值       835\n",
      "正常值    158775\n",
      "Name: isDefault, dtype: int64\n",
      "----------------------------------------\n",
      "----------------------------------------\n",
      "正常值    789164\n",
      "异常值     10836\n",
      "Name: delinquency_2years_outliers, dtype: int64\n",
      "delinquency_2years_outliers\n",
      "异常值      2582\n",
      "正常值    157028\n",
      "Name: isDefault, dtype: int64\n",
      "----------------------------------------\n",
      "----------------------------------------\n",
      "异常值    800000\n",
      "Name: ficoRangeLow_outliers, dtype: int64\n",
      "ficoRangeLow_outliers\n",
      "异常值    159610\n",
      "Name: isDefault, dtype: int64\n",
      "----------------------------------------\n",
      "----------------------------------------\n",
      "异常值    800000\n",
      "Name: ficoRangeHigh_outliers, dtype: int64\n",
      "ficoRangeHigh_outliers\n",
      "异常值    159610\n",
      "Name: isDefault, dtype: int64\n",
      "----------------------------------------\n",
      "----------------------------------------\n",
      "正常值    756782\n",
      "异常值     43218\n",
      "Name: openAcc_outliers, dtype: int64\n",
      "openAcc_outliers\n",
      "异常值      9857\n",
      "正常值    149753\n",
      "Name: isDefault, dtype: int64\n",
      "----------------------------------------\n",
      "----------------------------------------\n",
      "正常值    792471\n",
      "异常值      7529\n",
      "Name: pubRec_outliers, dtype: int64\n",
      "pubRec_outliers\n",
      "异常值      1701\n",
      "正常值    157909\n",
      "Name: isDefault, dtype: int64\n",
      "----------------------------------------\n",
      "----------------------------------------\n",
      "正常值    794120\n",
      "异常值      5880\n",
      "Name: pubRecBankruptcies_outliers, dtype: int64\n",
      "pubRecBankruptcies_outliers\n",
      "异常值      1423\n",
      "正常值    158187\n",
      "Name: isDefault, dtype: int64\n",
      "----------------------------------------\n",
      "----------------------------------------\n",
      "正常值    791257\n",
      "异常值      8743\n",
      "Name: revolBal_outliers, dtype: int64\n",
      "revolBal_outliers\n",
      "异常值      1182\n",
      "正常值    158428\n",
      "Name: isDefault, dtype: int64\n",
      "----------------------------------------\n",
      "----------------------------------------\n",
      "正常值    791448\n",
      "异常值      8552\n",
      "Name: revolUtil_outliers, dtype: int64\n",
      "revolUtil_outliers\n",
      "异常值      2083\n",
      "正常值    157527\n",
      "Name: isDefault, dtype: int64\n",
      "----------------------------------------\n",
      "----------------------------------------\n",
      "正常值    761491\n",
      "异常值     38509\n",
      "Name: totalAcc_outliers, dtype: int64\n",
      "totalAcc_outliers\n",
      "异常值      7667\n",
      "正常值    151943\n",
      "Name: isDefault, dtype: int64\n",
      "----------------------------------------\n",
      "----------------------------------------\n",
      "正常值    800000\n",
      "Name: initialListStatus_outliers, dtype: int64\n",
      "initialListStatus_outliers\n",
      "正常值    159610\n",
      "Name: isDefault, dtype: int64\n",
      "----------------------------------------\n",
      "----------------------------------------\n",
      "正常值    784586\n",
      "异常值     15414\n",
      "Name: applicationType_outliers, dtype: int64\n",
      "applicationType_outliers\n",
      "异常值      3875\n",
      "正常值    155735\n",
      "Name: isDefault, dtype: int64\n",
      "----------------------------------------\n",
      "----------------------------------------\n",
      "正常值    800000\n",
      "Name: title_outliers, dtype: int64\n",
      "title_outliers\n",
      "正常值    159610\n",
      "Name: isDefault, dtype: int64\n",
      "----------------------------------------\n",
      "----------------------------------------\n",
      "正常值    788905\n",
      "异常值     11095\n",
      "Name: n0_outliers, dtype: int64\n",
      "n0_outliers\n",
      "异常值      2246\n",
      "正常值    157364\n",
      "Name: isDefault, dtype: int64\n",
      "----------------------------------------\n",
      "----------------------------------------\n",
      "正常值    773484\n",
      "异常值     26516\n",
      "Name: n1_outliers, dtype: int64\n",
      "n1_outliers\n",
      "异常值      6686\n",
      "正常值    152924\n",
      "Name: isDefault, dtype: int64\n",
      "----------------------------------------\n",
      "----------------------------------------\n",
      "正常值    769964\n",
      "异常值     30036\n",
      "Name: n2_outliers, dtype: int64\n",
      "n2_outliers\n",
      "异常值      8365\n",
      "正常值    151245\n",
      "Name: isDefault, dtype: int64\n",
      "----------------------------------------\n",
      "----------------------------------------\n",
      "正常值    769964\n",
      "异常值     30036\n",
      "Name: n3_outliers, dtype: int64\n",
      "n3_outliers\n",
      "异常值      8365\n",
      "正常值    151245\n",
      "Name: isDefault, dtype: int64\n",
      "----------------------------------------\n",
      "----------------------------------------\n",
      "正常值    776734\n",
      "异常值     23266\n",
      "Name: n4_outliers, dtype: int64\n",
      "n4_outliers\n",
      "异常值      5117\n",
      "正常值    154493\n",
      "Name: isDefault, dtype: int64\n",
      "----------------------------------------\n",
      "----------------------------------------\n",
      "正常值    773008\n",
      "异常值     26992\n",
      "Name: n5_outliers, dtype: int64\n",
      "n5_outliers\n",
      "异常值      5217\n",
      "正常值    154393\n",
      "Name: isDefault, dtype: int64\n",
      "----------------------------------------\n",
      "----------------------------------------\n",
      "正常值    781712\n",
      "异常值     18288\n",
      "Name: n6_outliers, dtype: int64\n",
      "n6_outliers\n",
      "异常值      4111\n",
      "正常值    155499\n",
      "Name: isDefault, dtype: int64\n",
      "----------------------------------------\n",
      "----------------------------------------\n",
      "正常值    767866\n",
      "异常值     32134\n",
      "Name: n7_outliers, dtype: int64\n",
      "n7_outliers\n",
      "异常值      7595\n",
      "正常值    152015\n",
      "Name: isDefault, dtype: int64\n",
      "----------------------------------------\n",
      "----------------------------------------\n",
      "正常值    769787\n",
      "异常值     30213\n",
      "Name: n8_outliers, dtype: int64\n",
      "n8_outliers\n",
      "异常值      6081\n",
      "正常值    153529\n",
      "Name: isDefault, dtype: int64\n",
      "----------------------------------------\n",
      "----------------------------------------\n",
      "正常值    772341\n",
      "异常值     27659\n",
      "Name: n9_outliers, dtype: int64\n",
      "n9_outliers\n",
      "异常值      7701\n",
      "正常值    151909\n",
      "Name: isDefault, dtype: int64\n",
      "----------------------------------------\n",
      "----------------------------------------\n",
      "正常值    757885\n",
      "异常值     42115\n",
      "Name: n10_outliers, dtype: int64\n",
      "n10_outliers\n",
      "异常值      9637\n",
      "正常值    149973\n",
      "Name: isDefault, dtype: int64\n",
      "----------------------------------------\n",
      "----------------------------------------\n",
      "正常值    799434\n",
      "异常值       566\n",
      "Name: n11_outliers, dtype: int64\n",
      "n11_outliers\n",
      "异常值       112\n",
      "正常值    159498\n",
      "Name: isDefault, dtype: int64\n",
      "----------------------------------------\n",
      "----------------------------------------\n",
      "正常值    797585\n",
      "异常值      2415\n",
      "Name: n12_outliers, dtype: int64\n",
      "n12_outliers\n",
      "异常值       545\n",
      "正常值    159065\n",
      "Name: isDefault, dtype: int64\n",
      "----------------------------------------\n",
      "----------------------------------------\n",
      "正常值    788907\n",
      "异常值     11093\n",
      "Name: n13_outliers, dtype: int64\n",
      "n13_outliers\n",
      "异常值      2482\n",
      "正常值    157128\n",
      "Name: isDefault, dtype: int64\n",
      "----------------------------------------\n",
      "----------------------------------------\n",
      "正常值    788884\n",
      "异常值     11116\n",
      "Name: n14_outliers, dtype: int64\n",
      "n14_outliers\n",
      "异常值      3364\n",
      "正常值    156246\n",
      "Name: isDefault, dtype: int64\n",
      "----------------------------------------\n",
      "----------------------------------------\n",
      "异常值    673480\n",
      "正常值    126520\n",
      "Name: issueDateDT_outliers, dtype: int64\n",
      "issueDateDT_outliers\n",
      "异常值    140094\n",
      "正常值     19516\n",
      "Name: isDefault, dtype: int64\n",
      "----------------------------------------\n",
      "----------------------------------------\n",
      "异常值    800000\n",
      "Name: issueDate_year_outliers, dtype: int64\n",
      "issueDate_year_outliers\n",
      "异常值    159610\n",
      "Name: isDefault, dtype: int64\n",
      "----------------------------------------\n",
      "----------------------------------------\n",
      "正常值    800000\n",
      "Name: issueDate_month_outliers, dtype: int64\n",
      "issueDate_month_outliers\n",
      "正常值    159610\n",
      "Name: isDefault, dtype: int64\n",
      "----------------------------------------\n",
      "----------------------------------------\n",
      "异常值    800000\n",
      "Name: earliesCreditLine_year_outliers, dtype: int64\n",
      "earliesCreditLine_year_outliers\n",
      "异常值    159610\n",
      "Name: isDefault, dtype: int64\n",
      "----------------------------------------\n"
     ]
    }
   ],
   "source": [
    "data_train_copy = data_train.copy()\n",
    "\n",
    "for fea in data_train_copy.columns:\n",
    "    data_train_copy = find_outliers_by_3segama(data_train_copy,fea)\n",
    "    print(\"----\"*10)\n",
    "    print(data_train_copy[fea+'_outliers'].value_counts())\n",
    "    print(data_train_copy.groupby(fea+'_outliers')['isDefault'].sum())\n",
    "    print(\"----\"*10)"
   ]
  },
  {
   "cell_type": "code",
   "execution_count": 293,
   "metadata": {},
   "outputs": [
    {
     "data": {
      "text/html": [
       "<div>\n",
       "<style scoped>\n",
       "    .dataframe tbody tr th:only-of-type {\n",
       "        vertical-align: middle;\n",
       "    }\n",
       "\n",
       "    .dataframe tbody tr th {\n",
       "        vertical-align: top;\n",
       "    }\n",
       "\n",
       "    .dataframe thead th {\n",
       "        text-align: right;\n",
       "    }\n",
       "</style>\n",
       "<table border=\"1\" class=\"dataframe\">\n",
       "  <thead>\n",
       "    <tr style=\"text-align: right;\">\n",
       "      <th></th>\n",
       "      <th>id</th>\n",
       "      <th>loanAmnt</th>\n",
       "      <th>term</th>\n",
       "      <th>interestRate</th>\n",
       "      <th>installment</th>\n",
       "      <th>grade</th>\n",
       "      <th>subGrade</th>\n",
       "      <th>employmentTitle</th>\n",
       "      <th>employmentLength</th>\n",
       "      <th>homeOwnership</th>\n",
       "      <th>...</th>\n",
       "      <th>n9_outliers</th>\n",
       "      <th>n10_outliers</th>\n",
       "      <th>n11_outliers</th>\n",
       "      <th>n12_outliers</th>\n",
       "      <th>n13_outliers</th>\n",
       "      <th>n14_outliers</th>\n",
       "      <th>issueDateDT_outliers</th>\n",
       "      <th>issueDate_year_outliers</th>\n",
       "      <th>issueDate_month_outliers</th>\n",
       "      <th>earliesCreditLine_year_outliers</th>\n",
       "    </tr>\n",
       "  </thead>\n",
       "  <tbody>\n",
       "    <tr>\n",
       "      <th>414825</th>\n",
       "      <td>414825</td>\n",
       "      <td>6500.0</td>\n",
       "      <td>3</td>\n",
       "      <td>11.49</td>\n",
       "      <td>214.32</td>\n",
       "      <td>2</td>\n",
       "      <td>9</td>\n",
       "      <td>243717</td>\n",
       "      <td>7.0</td>\n",
       "      <td>1</td>\n",
       "      <td>...</td>\n",
       "      <td>正常值</td>\n",
       "      <td>正常值</td>\n",
       "      <td>正常值</td>\n",
       "      <td>正常值</td>\n",
       "      <td>正常值</td>\n",
       "      <td>正常值</td>\n",
       "      <td>异常值</td>\n",
       "      <td>异常值</td>\n",
       "      <td>正常值</td>\n",
       "      <td>异常值</td>\n",
       "    </tr>\n",
       "    <tr>\n",
       "      <th>450196</th>\n",
       "      <td>450196</td>\n",
       "      <td>11200.0</td>\n",
       "      <td>5</td>\n",
       "      <td>15.59</td>\n",
       "      <td>269.93</td>\n",
       "      <td>3</td>\n",
       "      <td>14</td>\n",
       "      <td>181086</td>\n",
       "      <td>10.0</td>\n",
       "      <td>1</td>\n",
       "      <td>...</td>\n",
       "      <td>正常值</td>\n",
       "      <td>正常值</td>\n",
       "      <td>正常值</td>\n",
       "      <td>正常值</td>\n",
       "      <td>正常值</td>\n",
       "      <td>正常值</td>\n",
       "      <td>异常值</td>\n",
       "      <td>异常值</td>\n",
       "      <td>正常值</td>\n",
       "      <td>异常值</td>\n",
       "    </tr>\n",
       "    <tr>\n",
       "      <th>5471</th>\n",
       "      <td>5471</td>\n",
       "      <td>6000.0</td>\n",
       "      <td>3</td>\n",
       "      <td>22.45</td>\n",
       "      <td>230.55</td>\n",
       "      <td>5</td>\n",
       "      <td>24</td>\n",
       "      <td>99647</td>\n",
       "      <td>8.0</td>\n",
       "      <td>0</td>\n",
       "      <td>...</td>\n",
       "      <td>正常值</td>\n",
       "      <td>正常值</td>\n",
       "      <td>正常值</td>\n",
       "      <td>正常值</td>\n",
       "      <td>正常值</td>\n",
       "      <td>正常值</td>\n",
       "      <td>异常值</td>\n",
       "      <td>异常值</td>\n",
       "      <td>正常值</td>\n",
       "      <td>异常值</td>\n",
       "    </tr>\n",
       "    <tr>\n",
       "      <th>592288</th>\n",
       "      <td>592288</td>\n",
       "      <td>8000.0</td>\n",
       "      <td>3</td>\n",
       "      <td>10.99</td>\n",
       "      <td>261.88</td>\n",
       "      <td>2</td>\n",
       "      <td>8</td>\n",
       "      <td>265001</td>\n",
       "      <td>3.0</td>\n",
       "      <td>1</td>\n",
       "      <td>...</td>\n",
       "      <td>正常值</td>\n",
       "      <td>正常值</td>\n",
       "      <td>正常值</td>\n",
       "      <td>正常值</td>\n",
       "      <td>正常值</td>\n",
       "      <td>正常值</td>\n",
       "      <td>异常值</td>\n",
       "      <td>异常值</td>\n",
       "      <td>正常值</td>\n",
       "      <td>异常值</td>\n",
       "    </tr>\n",
       "    <tr>\n",
       "      <th>127114</th>\n",
       "      <td>127114</td>\n",
       "      <td>15000.0</td>\n",
       "      <td>3</td>\n",
       "      <td>11.99</td>\n",
       "      <td>498.15</td>\n",
       "      <td>2</td>\n",
       "      <td>7</td>\n",
       "      <td>268425</td>\n",
       "      <td>1.0</td>\n",
       "      <td>1</td>\n",
       "      <td>...</td>\n",
       "      <td>正常值</td>\n",
       "      <td>正常值</td>\n",
       "      <td>正常值</td>\n",
       "      <td>正常值</td>\n",
       "      <td>正常值</td>\n",
       "      <td>正常值</td>\n",
       "      <td>异常值</td>\n",
       "      <td>异常值</td>\n",
       "      <td>正常值</td>\n",
       "      <td>异常值</td>\n",
       "    </tr>\n",
       "  </tbody>\n",
       "</table>\n",
       "<p>5 rows × 96 columns</p>\n",
       "</div>"
      ],
      "text/plain": [
       "            id  loanAmnt  term  interestRate  installment  grade  subGrade  \\\n",
       "414825  414825    6500.0     3         11.49       214.32      2         9   \n",
       "450196  450196   11200.0     5         15.59       269.93      3        14   \n",
       "5471      5471    6000.0     3         22.45       230.55      5        24   \n",
       "592288  592288    8000.0     3         10.99       261.88      2         8   \n",
       "127114  127114   15000.0     3         11.99       498.15      2         7   \n",
       "\n",
       "        employmentTitle  employmentLength  homeOwnership  ...  n9_outliers  \\\n",
       "414825           243717               7.0              1  ...          正常值   \n",
       "450196           181086              10.0              1  ...          正常值   \n",
       "5471              99647               8.0              0  ...          正常值   \n",
       "592288           265001               3.0              1  ...          正常值   \n",
       "127114           268425               1.0              1  ...          正常值   \n",
       "\n",
       "        n10_outliers  n11_outliers  n12_outliers  n13_outliers  n14_outliers  \\\n",
       "414825           正常值           正常值           正常值           正常值           正常值   \n",
       "450196           正常值           正常值           正常值           正常值           正常值   \n",
       "5471             正常值           正常值           正常值           正常值           正常值   \n",
       "592288           正常值           正常值           正常值           正常值           正常值   \n",
       "127114           正常值           正常值           正常值           正常值           正常值   \n",
       "\n",
       "        issueDateDT_outliers  issueDate_year_outliers  \\\n",
       "414825                   异常值                      异常值   \n",
       "450196                   异常值                      异常值   \n",
       "5471                     异常值                      异常值   \n",
       "592288                   异常值                      异常值   \n",
       "127114                   异常值                      异常值   \n",
       "\n",
       "        issueDate_month_outliers  earliesCreditLine_year_outliers  \n",
       "414825                       正常值                              异常值  \n",
       "450196                       正常值                              异常值  \n",
       "5471                         正常值                              异常值  \n",
       "592288                       正常值                              异常值  \n",
       "127114                       正常值                              异常值  \n",
       "\n",
       "[5 rows x 96 columns]"
      ]
     },
     "execution_count": 293,
     "metadata": {},
     "output_type": "execute_result"
    }
   ],
   "source": [
    "data_train_copy.sample(5)"
   ]
  },
  {
   "cell_type": "code",
   "execution_count": 294,
   "metadata": {},
   "outputs": [
    {
     "data": {
      "text/plain": [
       "(800000, 96)"
      ]
     },
     "execution_count": 294,
     "metadata": {},
     "output_type": "execute_result"
    }
   ],
   "source": [
    "data_train_copy.shape"
   ]
  },
  {
   "cell_type": "code",
   "execution_count": 295,
   "metadata": {},
   "outputs": [],
   "source": [
    "numerical_fea = ['id',\n",
    " 'loanAmnt',\n",
    " 'term',\n",
    " 'interestRate',\n",
    " 'installment',\n",
    " 'employmentTitle',\n",
    " 'homeOwnership',\n",
    " 'annualIncome',\n",
    " 'verificationStatus',\n",
    " 'purpose',\n",
    " 'postCode',\n",
    " 'regionCode',\n",
    " 'dti',\n",
    " 'delinquency_2years',\n",
    " 'ficoRangeLow',\n",
    " 'ficoRangeHigh',\n",
    " 'openAcc',\n",
    " 'pubRec',\n",
    " 'pubRecBankruptcies',\n",
    " 'revolBal',\n",
    " 'revolUtil',\n",
    " 'totalAcc',\n",
    " 'initialListStatus',\n",
    " 'applicationType',\n",
    " 'title',\n",
    " 'n0',\n",
    " 'n1',\n",
    " 'n2',\n",
    " 'n3',\n",
    " 'n4',\n",
    " 'n5',\n",
    " 'n6',\n",
    " 'n7',\n",
    " 'n8',\n",
    " 'n9',\n",
    " 'n10',\n",
    " 'n11',\n",
    " 'n12',\n",
    " 'n13',\n",
    " 'n14']\n",
    " \n",
    "for fea in numerical_fea:\n",
    "    data_train_nomal = data_train_copy[data_train_copy[fea+'_outliers']=='正常值']\n",
    "    data_train_nomal = data_train_nomal.reset_index(drop=True) "
   ]
  },
  {
   "cell_type": "code",
   "execution_count": 296,
   "metadata": {},
   "outputs": [
    {
     "data": {
      "text/plain": [
       "(788884, 96)"
      ]
     },
     "execution_count": 296,
     "metadata": {},
     "output_type": "execute_result"
    }
   ],
   "source": [
    "data_train_nomal.shape ## 80万条数据中删除了2万条，说明这个程度也算可以接受"
   ]
  },
  {
   "cell_type": "code",
   "execution_count": 299,
   "metadata": {},
   "outputs": [
    {
     "data": {
      "text/plain": [
       "(800000, 48)"
      ]
     },
     "execution_count": 299,
     "metadata": {},
     "output_type": "execute_result"
    }
   ],
   "source": [
    "data_train.shape"
   ]
  },
  {
   "cell_type": "code",
   "execution_count": 306,
   "metadata": {},
   "outputs": [],
   "source": [
    "data_train = data_train_nomal.iloc[: , :48]"
   ]
  },
  {
   "cell_type": "code",
   "execution_count": 307,
   "metadata": {},
   "outputs": [
    {
     "data": {
      "text/plain": [
       "(788884, 48)"
      ]
     },
     "execution_count": 307,
     "metadata": {},
     "output_type": "execute_result"
    }
   ],
   "source": [
    "data_train.shape"
   ]
  },
  {
   "attachments": {},
   "cell_type": "markdown",
   "metadata": {},
   "source": [
    "#### 逻辑回归等模型要单独增加的特征工程\n",
    "    * 对特征做归一化，去除相关性高的特征\n",
    "    * 归一化目的是让训练过程更好更快的收敛，避免特征大吃小的问题\n",
    "    * 去除相关性是增加模型的可解释性，加快预测过程。\n",
    "    ``` \n",
    "    for fea in [要归一化的特征列表]：\n",
    "     data[fea] = ((data[fea] - np.min(data[fea])) / (np.max(data[fea]) - np.min(data[fea])))\n",
    "     \n",
    "    ```\n",
    "\n",
    "\n",
    "\n",
    "\n"
   ]
  },
  {
   "cell_type": "code",
   "execution_count": 308,
   "metadata": {},
   "outputs": [
    {
     "data": {
      "text/plain": [
       "id                        0\n",
       "loanAmnt                  0\n",
       "term                      0\n",
       "interestRate              0\n",
       "installment               0\n",
       "grade                     0\n",
       "subGrade                  0\n",
       "employmentTitle           0\n",
       "employmentLength          0\n",
       "homeOwnership             0\n",
       "annualIncome              0\n",
       "verificationStatus        0\n",
       "isDefault                 0\n",
       "purpose                   0\n",
       "postCode                  0\n",
       "regionCode                0\n",
       "dti                       0\n",
       "delinquency_2years        0\n",
       "ficoRangeLow              0\n",
       "ficoRangeHigh             0\n",
       "openAcc                   0\n",
       "pubRec                    0\n",
       "pubRecBankruptcies        0\n",
       "revolBal                  0\n",
       "revolUtil                 0\n",
       "totalAcc                  0\n",
       "initialListStatus         0\n",
       "applicationType           0\n",
       "title                     0\n",
       "n0                        0\n",
       "n1                        0\n",
       "n2                        0\n",
       "n3                        0\n",
       "n4                        0\n",
       "n5                        0\n",
       "n6                        0\n",
       "n7                        0\n",
       "n8                        0\n",
       "n9                        0\n",
       "n10                       0\n",
       "n11                       0\n",
       "n12                       0\n",
       "n13                       0\n",
       "n14                       0\n",
       "issueDateDT               0\n",
       "issueDate_year            0\n",
       "issueDate_month           0\n",
       "earliesCreditLine_year    0\n",
       "dtype: int64"
      ]
     },
     "execution_count": 308,
     "metadata": {},
     "output_type": "execute_result"
    }
   ],
   "source": [
    "data_train.isnull().sum()"
   ]
  },
  {
   "cell_type": "code",
   "execution_count": 309,
   "metadata": {},
   "outputs": [
    {
     "data": {
      "text/plain": [
       "id                        0\n",
       "loanAmnt                  0\n",
       "term                      0\n",
       "interestRate              0\n",
       "installment               0\n",
       "grade                     0\n",
       "subGrade                  0\n",
       "employmentTitle           0\n",
       "employmentLength          0\n",
       "homeOwnership             0\n",
       "annualIncome              0\n",
       "verificationStatus        0\n",
       "purpose                   0\n",
       "postCode                  0\n",
       "regionCode                0\n",
       "dti                       0\n",
       "delinquency_2years        0\n",
       "ficoRangeLow              0\n",
       "ficoRangeHigh             0\n",
       "openAcc                   0\n",
       "pubRec                    0\n",
       "pubRecBankruptcies        0\n",
       "revolBal                  0\n",
       "revolUtil                 0\n",
       "totalAcc                  0\n",
       "initialListStatus         0\n",
       "applicationType           0\n",
       "title                     0\n",
       "n0                        0\n",
       "n1                        0\n",
       "n2                        0\n",
       "n3                        0\n",
       "n4                        0\n",
       "n5                        0\n",
       "n6                        0\n",
       "n7                        0\n",
       "n8                        0\n",
       "n9                        0\n",
       "n10                       0\n",
       "n11                       0\n",
       "n12                       0\n",
       "n13                       0\n",
       "n14                       0\n",
       "issueDateDT               0\n",
       "issueDate_year            0\n",
       "issueDate_month           0\n",
       "earliesCreditLine_year    0\n",
       "dtype: int64"
      ]
     },
     "execution_count": 309,
     "metadata": {},
     "output_type": "execute_result"
    }
   ],
   "source": [
    "data_test_a.isnull().sum()"
   ]
  },
  {
   "attachments": {},
   "cell_type": "markdown",
   "metadata": {},
   "source": [
    "#### 检测异常的方法二：箱型图\n",
    "* 总结一句话：四分位数会将数据分为三个点和四个区间，IQR = Q3 -Q1，下触须=Q1 − 1.5x IQR，上触须=Q3 + 1.5x IQR；"
   ]
  },
  {
   "attachments": {},
   "cell_type": "markdown",
   "metadata": {},
   "source": [
    "### 数据分桶\n",
    "* 特征分箱的目的：\n",
    "\n",
    "    * 从模型效果上来看，特征分箱主要是为了降低变量的复杂性，减少变量噪音对模型的影响，提高自变量和因变量的相关度。从而使模型更加稳定。\n",
    "数据分桶的对象：\n",
    "\n",
    "        * 将连续变量离散化\n",
    "        * 将多状态的离散变量合并成少状态\n",
    "* 分箱的原因：\n",
    "\n",
    "    * 数据的特征内的值跨度可能比较大，对有监督和无监督中如k-均值聚类它使用欧氏距离作为相似度函数来测量数据点之间的相似度。都会造成大吃小的影响，其中一种解决方法是对计数值进行区间量化即数据分桶也叫做数据分箱，然后使用量化后的结果。\n",
    "* 分箱的优点：\n",
    "\n",
    "    * 处理缺失值：当数据源可能存在缺失值，此时可以把null单独作为一个分箱。\n",
    "    * 处理异常值：当数据中存在离群点时，可以把其通过分箱离散化处理，从而提高变量的鲁棒性（抗干扰能力）。例如，age若出现200这种异常值，可分入“age > 60”这个分箱里，排除影响。\n",
    "    * 业务解释性：我们习惯于线性判断变量的作用，当x越来越大，y就越来越大。但实际x与y之间经常存在着非线性关系，此时可经过WOE变换。\n",
    "* 特别要注意一下分箱的基本原则：\n",
    "\n",
    "    * 最小分箱占比不低于5%\n",
    "    * 箱内不能全部是好客户\n",
    "    * 连续箱单调"
   ]
  },
  {
   "attachments": {},
   "cell_type": "markdown",
   "metadata": {},
   "source": [
    "### 特征交互（代价不菲，但往往可能创造出不错的选择）"
   ]
  },
  {
   "cell_type": "code",
   "execution_count": null,
   "metadata": {},
   "outputs": [],
   "source": []
  },
  {
   "cell_type": "code",
   "execution_count": null,
   "metadata": {},
   "outputs": [],
   "source": []
  },
  {
   "cell_type": "code",
   "execution_count": null,
   "metadata": {},
   "outputs": [],
   "source": []
  },
  {
   "cell_type": "code",
   "execution_count": null,
   "metadata": {},
   "outputs": [],
   "source": []
  },
  {
   "cell_type": "code",
   "execution_count": null,
   "metadata": {},
   "outputs": [],
   "source": []
  },
  {
   "cell_type": "code",
   "execution_count": null,
   "metadata": {},
   "outputs": [],
   "source": []
  },
  {
   "cell_type": "code",
   "execution_count": null,
   "metadata": {},
   "outputs": [],
   "source": []
  },
  {
   "cell_type": "code",
   "execution_count": null,
   "metadata": {},
   "outputs": [],
   "source": []
  },
  {
   "cell_type": "code",
   "execution_count": null,
   "metadata": {},
   "outputs": [],
   "source": []
  },
  {
   "cell_type": "code",
   "execution_count": null,
   "metadata": {},
   "outputs": [],
   "source": []
  },
  {
   "cell_type": "code",
   "execution_count": null,
   "metadata": {},
   "outputs": [],
   "source": []
  },
  {
   "cell_type": "code",
   "execution_count": null,
   "metadata": {},
   "outputs": [],
   "source": []
  },
  {
   "cell_type": "code",
   "execution_count": null,
   "metadata": {},
   "outputs": [],
   "source": []
  },
  {
   "cell_type": "code",
   "execution_count": null,
   "metadata": {},
   "outputs": [],
   "source": []
  },
  {
   "cell_type": "code",
   "execution_count": null,
   "metadata": {},
   "outputs": [],
   "source": []
  },
  {
   "cell_type": "code",
   "execution_count": null,
   "metadata": {},
   "outputs": [],
   "source": []
  },
  {
   "cell_type": "code",
   "execution_count": null,
   "metadata": {},
   "outputs": [],
   "source": []
  },
  {
   "cell_type": "code",
   "execution_count": null,
   "metadata": {},
   "outputs": [],
   "source": []
  },
  {
   "cell_type": "code",
   "execution_count": null,
   "metadata": {},
   "outputs": [],
   "source": []
  },
  {
   "cell_type": "code",
   "execution_count": null,
   "metadata": {},
   "outputs": [],
   "source": []
  },
  {
   "cell_type": "code",
   "execution_count": null,
   "metadata": {},
   "outputs": [],
   "source": []
  }
 ],
 "metadata": {
  "kernelspec": {
   "display_name": "base",
   "language": "python",
   "name": "python3"
  },
  "language_info": {
   "codemirror_mode": {
    "name": "ipython",
    "version": 3
   },
   "file_extension": ".py",
   "mimetype": "text/x-python",
   "name": "python",
   "nbconvert_exporter": "python",
   "pygments_lexer": "ipython3",
   "version": "3.8.15"
  },
  "orig_nbformat": 4,
  "vscode": {
   "interpreter": {
    "hash": "d4d1e4263499bec80672ea0156c357c1ee493ec2b1c70f0acce89fc37c4a6abe"
   }
  }
 },
 "nbformat": 4,
 "nbformat_minor": 2
}
